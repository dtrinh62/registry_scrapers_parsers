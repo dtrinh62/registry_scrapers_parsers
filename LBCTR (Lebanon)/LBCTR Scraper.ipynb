{
 "cells": [
  {
   "cell_type": "code",
   "execution_count": 1,
   "metadata": {},
   "outputs": [],
   "source": [
    "from requests import get\n",
    "from bs4 import BeautifulSoup\n",
    "import re\n",
    "from time import time\n",
    "import csv\n",
    "\n",
    "try:\n",
    "    get_ipython\n",
    "    from tqdm.notebook import tqdm\n",
    "except NameError:\n",
    "    from tqdm import tqdm\n",
    "\n",
    "def get_url(url):\n",
    "    response = get(url)\n",
    "    html = response.content\n",
    "    soup = BeautifulSoup(html, \"html.parser\")\n",
    "    return soup\n",
    "\n",
    "base_url = 'http://lbctr.emro.who.int'"
   ]
  },
  {
   "cell_type": "code",
   "execution_count": 2,
   "metadata": {},
   "outputs": [],
   "source": [
    "#this is set to 1000 for now as there are only 60 trials on the reigstry, but it appears you can make the pageSize parameter\n",
    "#as arbitrarily big as you want. Shouldn't need to change for some time though.\n",
    "#You can also make it one size and iterate over the page paramter.\n",
    "soup = get_url(base_url + '/Trials/View?Grid-sort=&Grid-page=1&Grid-pageSize=1000&Grid-group=&Grid-filter=')\n",
    "\n",
    "url_suff = []\n",
    "for s in soup.find_all('td', {'class':'mbold'}):\n",
    "    url_suff.append(s.a.get('href'))"
   ]
  },
  {
   "cell_type": "code",
   "execution_count": 4,
   "metadata": {},
   "outputs": [
    {
     "data": {
      "application/vnd.jupyter.widget-view+json": {
       "model_id": "cc5e1a47286646eeacf008f4aa754f42",
       "version_major": 2,
       "version_minor": 0
      },
      "text/plain": [
       "HBox(children=(FloatProgress(value=0.0, max=60.0), HTML(value='')))"
      ]
     },
     "metadata": {},
     "output_type": "display_data"
    },
    {
     "name": "stdout",
     "output_type": "stream",
     "text": [
      "\n"
     ]
    }
   ],
   "source": [
    "trial_info = []\n",
    "\n",
    "for suff in tqdm(url_suff):\n",
    "    soup2 = get_url(base_url + suff)\n",
    "    \n",
    "    trial_dict = {}\n",
    "    \n",
    "    #Getting data from the main table\n",
    "    main_type_info = soup2.find('div', {'class': 'mainInformation-watermark'})\n",
    "    data_fields = main_type_info.find_all('label', {'class': 'control-label'})\n",
    "    idx=0\n",
    "    for t in data_fields:    \n",
    "        if not t.attrs['for']:\n",
    "            continue\n",
    "        elif t.attrs['for'] and idx == len(data_fields)-1:\n",
    "            trial_dict[t.text.strip().lower().replace(' ', '_').replace(':','')] = None\n",
    "        elif t.attrs['for'] and data_fields[idx+1].attrs['for']:\n",
    "            trial_dict[t.text.strip().lower().replace(' ', '_').replace(':','')] = None\n",
    "        elif t.attrs['for'] and not data_fields[idx+1].attrs['for']:\n",
    "            trial_dict[t.text.strip().lower().replace(' ', '_').replace(':','')] = data_fields[idx+1].text.strip()\n",
    "        idx += 1\n",
    "    \n",
    "    #Getting data from everywhere else but results\n",
    "    \n",
    "    for tab in soup2.find_all('table'):\n",
    "        table_name = re.sub(r\"(\\w)([A-Z])\", r\"\\1 \\2\", tab.attrs['id'].replace('tbl','')).lower().replace(' ','_')\n",
    "        table = []\n",
    "        headers = []\n",
    "        for h in tab.find_all('th'):\n",
    "            headers.append(h.text.strip())\n",
    "        rows = tab.find('tbody').find_all('tr')\n",
    "        if len(headers) == 1:\n",
    "            for r in rows:\n",
    "                for l in r.find_all('label'):\n",
    "                    table.append(l.text.strip())   \n",
    "        elif len(headers) > 1 and rows:\n",
    "            row_dict = {}\n",
    "            for r in rows:\n",
    "                data = r.find_all('label')\n",
    "                for h, d in zip(headers, data):\n",
    "                    if d:\n",
    "                        row_dict[h.lower().replace(' ','_')] = d.text.strip()\n",
    "                    else:\n",
    "                        row_dict[h.lower().replace(' ','_')] = None\n",
    "                table.append(row_dict)\n",
    "        trial_dict[table_name] = table\n",
    "    \n",
    "    #Getting data from the Results tab\n",
    "    \n",
    "    results_fields = soup2.find('h3', text='Trial Results').find_next('div').find_all('label', {'class': 'control-label'})\n",
    "    idx=0\n",
    "    results = {}\n",
    "    for r in results_fields:\n",
    "        if not r.attrs['for']:\n",
    "            continue\n",
    "        elif r.attrs['for'] and idx == len(results_fields)-1:\n",
    "            results[r.text.strip().lower().replace(' ', '_').replace(':','')] = None\n",
    "        elif r.attrs['for'] and results_fields[idx+1].attrs['for']:\n",
    "            results[r.text.strip().lower().replace(' ', '_').replace(':','')] = None\n",
    "        elif t.attrs['for'] and not data_fields[idx+1].attrs['for']:\n",
    "            results[r.text.strip().lower().replace(' ', '_').replace(':','')] = results_fields[idx+1].text.strip()\n",
    "        idx += 1\n",
    "    if results:\n",
    "        trial_dict['trial_results'] = results\n",
    "    else:\n",
    "        trial_dict['trial_results'] = None\n",
    "    \n",
    "    #appending it all to the master list of trial info\n",
    "    trial_info.append(trial_dict)"
   ]
  },
  {
   "cell_type": "code",
   "execution_count": 5,
   "metadata": {},
   "outputs": [],
   "source": [
    "import ndjson\n",
    "from datetime import date\n",
    "with open('lbctr_json_{}.ndjson'.format(date.today()),'w') as r:\n",
    "    ndjson.dump(trial_info, r)"
   ]
  },
  {
   "cell_type": "code",
   "execution_count": null,
   "metadata": {},
   "outputs": [],
   "source": []
  }
 ],
 "metadata": {
  "jupytext": {
   "formats": "ipynb,py:light"
  },
  "kernelspec": {
   "display_name": "Python 3",
   "language": "python",
   "name": "python3"
  },
  "language_info": {
   "codemirror_mode": {
    "name": "ipython",
    "version": 3
   },
   "file_extension": ".py",
   "mimetype": "text/x-python",
   "name": "python",
   "nbconvert_exporter": "python",
   "pygments_lexer": "ipython3",
   "version": "3.7.6"
  }
 },
 "nbformat": 4,
 "nbformat_minor": 4
}
